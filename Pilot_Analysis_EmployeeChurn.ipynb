{
  "nbformat": 4,
  "nbformat_minor": 0,
  "metadata": {
    "colab": {
      "provenance": [],
      "authorship_tag": "ABX9TyNtlauPVYf7Huhs5mhPGpU5",
      "include_colab_link": true
    },
    "kernelspec": {
      "name": "python3",
      "display_name": "Python 3"
    },
    "language_info": {
      "name": "python"
    }
  },
  "cells": [
    {
      "cell_type": "markdown",
      "metadata": {
        "id": "view-in-github",
        "colab_type": "text"
      },
      "source": [
        "<a href=\"https://colab.research.google.com/github/AkramDataEngineering/Employee-Churn-Analysis-using-Rainforest-Model-using-PyCaret-Library/blob/main/Pilot_Analysis_EmployeeChurn.ipynb\" target=\"_parent\"><img src=\"https://colab.research.google.com/assets/colab-badge.svg\" alt=\"Open In Colab\"/></a>"
      ]
    },
    {
      "cell_type": "code",
      "execution_count": null,
      "metadata": {
        "id": "9yEPMHT02AI6"
      },
      "outputs": [],
      "source": []
    },
    {
      "cell_type": "markdown",
      "source": [
        "# Connect to BIG Query"
      ],
      "metadata": {
        "id": "FR3IEwhM2cIg"
      }
    },
    {
      "cell_type": "code",
      "source": [
        "#Libraries that we need\n",
        "from google.cloud import bigquery\n",
        "from google.colab import auth\n",
        "\n",
        "#Authenticate\n",
        "auth.authenticate_user()\n",
        "\n",
        "#Initiate the Client for Big Query\n",
        "project_id = \"employee-churn-analysis-467505\"\n",
        "client = bigquery.Client(project=project_id,location=\"US\")"
      ],
      "metadata": {
        "id": "Str3nP7N2bAO"
      },
      "execution_count": null,
      "outputs": []
    },
    {
      "cell_type": "code",
      "source": [
        "#Get the Dataset and Table\n",
        "dataset_ref = client.dataset(\"employeedata\", project=project_id)\n",
        "table_ref = dataset_ref.table(\"tbl_hr_data\")\n",
        "table = client.get_table(table_ref)\n",
        "table.schema"
      ],
      "metadata": {
        "id": "bEfbnpVO2a8t"
      },
      "execution_count": null,
      "outputs": []
    },
    {
      "cell_type": "code",
      "source": [
        "#Get the Dataset and Table for Pilot employee\n",
        "\n",
        "new_table_ref = dataset_ref.table(\"tbl_new_employees\")\n",
        "new_table = client.get_table(new_table_ref)\n",
        "new_table.schema"
      ],
      "metadata": {
        "id": "4mleLNkS2a50"
      },
      "execution_count": null,
      "outputs": []
    },
    {
      "cell_type": "code",
      "source": [
        "#CONVERT TO DATAFRAME\n",
        "df_employees = client.list_rows(table).to_dataframe()\n",
        "df_employees.head()"
      ],
      "metadata": {
        "id": "oTmpfyn72a3E"
      },
      "execution_count": null,
      "outputs": []
    },
    {
      "cell_type": "code",
      "source": [
        "#CONVERT TO DATAFRAME\n",
        "df_pilot_employees = client.list_rows(new_table).to_dataframe()\n",
        "df_pilot_employees.head()"
      ],
      "metadata": {
        "id": "2yWJnYB12a0e"
      },
      "execution_count": null,
      "outputs": []
    },
    {
      "cell_type": "markdown",
      "source": [
        "# Build Model (Install Pycaret)\n"
      ],
      "metadata": {
        "id": "vexpCfH67Dh-"
      }
    },
    {
      "cell_type": "code",
      "source": [
        "# !pip install pycaret"
      ],
      "metadata": {
        "collapsed": true,
        "id": "iDcrop-e6_bG"
      },
      "execution_count": null,
      "outputs": []
    },
    {
      "cell_type": "markdown",
      "source": [
        "# Code Model and Train"
      ],
      "metadata": {
        "id": "BOr7gS7I7a-h"
      }
    },
    {
      "cell_type": "code",
      "source": [
        "df_employees.info()"
      ],
      "metadata": {
        "id": "ey5Ggncx9AGc"
      },
      "execution_count": null,
      "outputs": []
    },
    {
      "cell_type": "code",
      "source": [
        "df_employees.columns"
      ],
      "metadata": {
        "id": "VBuoe07b9U-X"
      },
      "execution_count": null,
      "outputs": []
    },
    {
      "cell_type": "code",
      "source": [
        "#Get The Model(AUTO ML LIBRARY)\n",
        "from pycaret.classification import *"
      ],
      "metadata": {
        "id": "6wZ-tZSU7SAm"
      },
      "execution_count": null,
      "outputs": []
    },
    {
      "cell_type": "code",
      "source": [
        "#Setup or Model\n",
        "setup(df_employees, target= \"Quit_the_Company\" , session_id=123, ignore_features= [\"employee_id\"], categorical_features= [\"salary\",\"Departments\"])"
      ],
      "metadata": {
        "id": "dUtIkJYp9ijM"
      },
      "execution_count": null,
      "outputs": []
    },
    {
      "cell_type": "code",
      "source": [
        "compare_models()"
      ],
      "metadata": {
        "id": "jsRJNxm--Le7"
      },
      "execution_count": null,
      "outputs": []
    },
    {
      "cell_type": "code",
      "source": [
        "rf_model = create_model(\"rf\")"
      ],
      "metadata": {
        "id": "5tnUdzFq-eue"
      },
      "execution_count": null,
      "outputs": []
    },
    {
      "cell_type": "code",
      "source": [
        "final_df = predict_model(rf_model)\n",
        "final_df.head()"
      ],
      "metadata": {
        "id": "2AFaqU_S3img"
      },
      "execution_count": null,
      "outputs": []
    },
    {
      "cell_type": "code",
      "source": [
        "final_df.info()"
      ],
      "metadata": {
        "id": "efZYplKR4ep5"
      },
      "execution_count": null,
      "outputs": []
    },
    {
      "cell_type": "code",
      "source": [
        "# NOw the data has tated into Test Data ,Its Time to use the trained model on New data set of pilot employee\n",
        "\n",
        "new_pred_df = predict_model(rf_model, data=df_pilot_employees)\n",
        "new_pred_df.head()"
      ],
      "metadata": {
        "id": "mdyzb_4m4emP"
      },
      "execution_count": null,
      "outputs": []
    },
    {
      "cell_type": "code",
      "source": [
        "#Right back to Big Query\n",
        "new_pred_df.to_gbq(\"employeedata.pilot_predictions\",\n",
        "                   project_id,\n",
        "                   chunksize= None ,\n",
        "                   if_exists= \"replace\")"
      ],
      "metadata": {
        "id": "NsXBPljI4ejD"
      },
      "execution_count": null,
      "outputs": []
    },
    {
      "cell_type": "code",
      "source": [
        "plot_model(rf_model, plot= \"feature\")"
      ],
      "metadata": {
        "id": "KOcxqK2y4egh"
      },
      "execution_count": null,
      "outputs": []
    },
    {
      "cell_type": "code",
      "source": [
        "#Create A Feature Table\n",
        "rf_model.feature_names_in_"
      ],
      "metadata": {
        "id": "iWN4oGvB4ec3"
      },
      "execution_count": null,
      "outputs": []
    },
    {
      "cell_type": "code",
      "source": [
        "rf_model.feature_importances_"
      ],
      "metadata": {
        "id": "iYIFU3uH4eZT"
      },
      "execution_count": null,
      "outputs": []
    },
    {
      "cell_type": "code",
      "source": [
        "#Noew Combining this Feauture and Importance in  data frame\n",
        "import pandas as pd\n",
        "feature_table = pd.DataFrame(zip(rf_model.feature_names_in_, rf_model.feature_importances_ ), columns=[\"Feature\",\"Importance\"])\n",
        "feature_table"
      ],
      "metadata": {
        "id": "2Ws5AHQO4eV8"
      },
      "execution_count": null,
      "outputs": []
    },
    {
      "cell_type": "code",
      "source": [
        "#Take this Table to Big Query\n",
        "feature_table.to_gbq(\"employeedata.feature_table\",\n",
        "                   project_id,\n",
        "                   chunksize= None ,\n",
        "                   if_exists= \"replace\")"
      ],
      "metadata": {
        "id": "h3fGzCZL_wFy"
      },
      "execution_count": null,
      "outputs": []
    },
    {
      "cell_type": "code",
      "source": [],
      "metadata": {
        "id": "FVRikzpJ_v80"
      },
      "execution_count": null,
      "outputs": []
    }
  ]
}